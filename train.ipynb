{
 "cells": [
  {
   "cell_type": "code",
   "id": "initial_id",
   "metadata": {
    "collapsed": true,
    "ExecuteTime": {
     "end_time": "2025-01-14T15:18:14.530351Z",
     "start_time": "2025-01-14T15:18:14.241817Z"
    }
   },
   "source": "import pandas as pd",
   "outputs": [],
   "execution_count": 1
  },
  {
   "metadata": {
    "ExecuteTime": {
     "end_time": "2025-01-14T15:18:18.283470Z",
     "start_time": "2025-01-14T15:18:14.566457Z"
    }
   },
   "cell_type": "code",
   "source": [
    "import numpy as np\n",
    "\n",
    "import typing\n",
    "from typing import Any, Tuple\n",
    "\n",
    "import tensorflow as tf\n",
    "\n",
    "import tensorflow_text as tf_text\n",
    "import keras\n",
    "import matplotlib.pyplot as plt\n",
    "import matplotlib.ticker as ticker"
   ],
   "id": "d78ee4f7de11ae95",
   "outputs": [],
   "execution_count": 2
  },
  {
   "metadata": {
    "ExecuteTime": {
     "end_time": "2025-01-14T15:57:05.234113Z",
     "start_time": "2025-01-14T15:57:05.230310Z"
    }
   },
   "cell_type": "code",
   "source": [
    "import jax\n",
    "from jax import numpy as jnp\n",
    "from flax import linen as nn\n",
    "import flax\n",
    "from jax import vmap"
   ],
   "id": "de494f4cf6b5286f",
   "outputs": [],
   "execution_count": 98
  },
  {
   "metadata": {
    "ExecuteTime": {
     "end_time": "2025-01-14T15:18:18.540407Z",
     "start_time": "2025-01-14T15:18:18.483736Z"
    }
   },
   "cell_type": "code",
   "source": [
    "df = pd.read_csv('dataset/train.csv')\n",
    "df.head()"
   ],
   "id": "c23b4d3d907882a4",
   "outputs": [
    {
     "data": {
      "text/plain": [
       "                                                 Fon  \\\n",
       "0                            Mi nɔ xwe do Mawu sɛ lɛ   \n",
       "1                                 zɔ̀n afɔ̀ yì tomὲ   \n",
       "2                           A na bló alɔkpa ɖokpó ɔ́   \n",
       "3  ɖo azɔxɔ mɛ ɔ mi nɔ mɔ akluzu tabilo tavo wɛma...   \n",
       "4                                      A ta zogbεn ɔ   \n",
       "\n",
       "                                              French  \n",
       "0                    Servez Dieu de toute votre âme.  \n",
       "1                                     voyager à pied  \n",
       "2                       Tu feras de la même manière.  \n",
       "3  en classe nous voyons un crucifix des tableaux...  \n",
       "4                              Tu as allumé la lampe  "
      ],
      "text/html": [
       "<div>\n",
       "<style scoped>\n",
       "    .dataframe tbody tr th:only-of-type {\n",
       "        vertical-align: middle;\n",
       "    }\n",
       "\n",
       "    .dataframe tbody tr th {\n",
       "        vertical-align: top;\n",
       "    }\n",
       "\n",
       "    .dataframe thead th {\n",
       "        text-align: right;\n",
       "    }\n",
       "</style>\n",
       "<table border=\"1\" class=\"dataframe\">\n",
       "  <thead>\n",
       "    <tr style=\"text-align: right;\">\n",
       "      <th></th>\n",
       "      <th>Fon</th>\n",
       "      <th>French</th>\n",
       "    </tr>\n",
       "  </thead>\n",
       "  <tbody>\n",
       "    <tr>\n",
       "      <th>0</th>\n",
       "      <td>Mi nɔ xwe do Mawu sɛ lɛ</td>\n",
       "      <td>Servez Dieu de toute votre âme.</td>\n",
       "    </tr>\n",
       "    <tr>\n",
       "      <th>1</th>\n",
       "      <td>zɔ̀n afɔ̀ yì tomὲ</td>\n",
       "      <td>voyager à pied</td>\n",
       "    </tr>\n",
       "    <tr>\n",
       "      <th>2</th>\n",
       "      <td>A na bló alɔkpa ɖokpó ɔ́</td>\n",
       "      <td>Tu feras de la même manière.</td>\n",
       "    </tr>\n",
       "    <tr>\n",
       "      <th>3</th>\n",
       "      <td>ɖo azɔxɔ mɛ ɔ mi nɔ mɔ akluzu tabilo tavo wɛma...</td>\n",
       "      <td>en classe nous voyons un crucifix des tableaux...</td>\n",
       "    </tr>\n",
       "    <tr>\n",
       "      <th>4</th>\n",
       "      <td>A ta zogbεn ɔ</td>\n",
       "      <td>Tu as allumé la lampe</td>\n",
       "    </tr>\n",
       "  </tbody>\n",
       "</table>\n",
       "</div>"
      ]
     },
     "execution_count": 4,
     "metadata": {},
     "output_type": "execute_result"
    }
   ],
   "execution_count": 4
  },
  {
   "metadata": {
    "ExecuteTime": {
     "end_time": "2025-01-14T15:18:18.745594Z",
     "start_time": "2025-01-14T15:18:18.555503Z"
    }
   },
   "cell_type": "code",
   "source": [
    "pairs = []\n",
    "for i in range(len(df)):\n",
    "    pairs.append([df['Fon'][i].lower(), df['French'][i].lower()])"
   ],
   "id": "5b616f6409ed3867",
   "outputs": [],
   "execution_count": 5
  },
  {
   "metadata": {
    "ExecuteTime": {
     "end_time": "2025-01-14T15:18:18.760924Z",
     "start_time": "2025-01-14T15:18:18.759351Z"
    }
   },
   "cell_type": "code",
   "source": [
    "inp = df['Fon']\n",
    "targ = df['French']"
   ],
   "id": "8f57f9ba8629f4b6",
   "outputs": [],
   "execution_count": 6
  },
  {
   "metadata": {
    "ExecuteTime": {
     "end_time": "2025-01-14T15:18:18.825099Z",
     "start_time": "2025-01-14T15:18:18.784589Z"
    }
   },
   "cell_type": "code",
   "source": [
    "BUFFER_SIZE = len(inp)\n",
    "BATCH_SIZE = 64\n",
    "\n",
    "dataset = tf.data.Dataset.from_tensor_slices((inp, targ)).shuffle(BUFFER_SIZE)\n",
    "dataset = dataset.batch(BATCH_SIZE)"
   ],
   "id": "2b780fb8991e57c5",
   "outputs": [],
   "execution_count": 7
  },
  {
   "metadata": {
    "ExecuteTime": {
     "end_time": "2025-01-14T15:18:18.905181Z",
     "start_time": "2025-01-14T15:18:18.844451Z"
    }
   },
   "cell_type": "code",
   "source": [
    "for example_input_batch, example_target_batch in dataset.take(1):\n",
    "    print(example_input_batch[:5])\n",
    "    print()\n",
    "    print(example_target_batch[:5])\n",
    "    break"
   ],
   "id": "c929c00adc035474",
   "outputs": [
    {
     "name": "stdout",
     "output_type": "stream",
     "text": [
      "tf.Tensor(\n",
      "[b'Ayijay\\xc3\\xac s\\xc9\\x94\\xcc\\x81 t\\xc3\\xadin \\xc9\\x96\\xc3\\xb2 t\\xc3\\xb2 \\xc9\\x94\\xcc\\x81 m\\xc9\\x9b\\xcc\\x80 \\xc4\\x83'\n",
      " b'asi t\\xc9\\x94n \\xc9\\x96o fi \\xc4\\x83 e \\xc9\\x96o d\\xc9\\x94n'\n",
      " b'un s\\xc3\\xa8 x\\xc3\\xb3 e a \\xc9\\x96\\xc9\\x94 l\\xc9\\x9b\\xcc\\x81'\n",
      " b'mi \\xc9\\x96o jij\\xc9\\x94 bo n\\xc9\\x94 \\xc9\\x96e nu xixa mit\\xc9\\x94n l\\xce\\xb5'\n",
      " b'mi yi wan nu m\\xc9\\x9bjit\\xc9\\x94 mit\\xc9\\x94n l\\xc9\\x9b'], shape=(5,), dtype=string)\n",
      "\n",
      "tf.Tensor(\n",
      "[b'Il n\\xe2\\x80\\x99y a plus de paix dans le pays.'\n",
      " b\"sa femme n'est pas ici elle est l\\xc3\\xa0\"\n",
      " b\"j'ai entendu les paroles que tu as dites\"\n",
      " b\"nous avons l'habitude d'illustrer nos r\\xc3\\xa9citations\"\n",
      " b'aimez vos parents'], shape=(5,), dtype=string)\n"
     ]
    }
   ],
   "execution_count": 8
  },
  {
   "metadata": {
    "ExecuteTime": {
     "end_time": "2025-01-14T15:18:18.912314Z",
     "start_time": "2025-01-14T15:18:18.910507Z"
    }
   },
   "cell_type": "code",
   "source": [
    "def tf_lower_and_split_punct(text):\n",
    "    # Split accecented characters.\n",
    "    text = tf_text.normalize_utf8(text, 'NFKD')\n",
    "    text = tf.strings.lower(text)\n",
    "    # Add spaces around punctuation.\n",
    "    text = tf.strings.regex_replace(text, '[.?!,¿]', r' \\0 ')\n",
    "    # Strip whitespace.\n",
    "    text = tf.strings.strip(text)\n",
    "\n",
    "    text = tf.strings.join(['[START]', text, '[END]'], separator=' ')\n",
    "    return text"
   ],
   "id": "882963631c296f60",
   "outputs": [],
   "execution_count": 9
  },
  {
   "metadata": {
    "ExecuteTime": {
     "end_time": "2025-01-14T15:18:18.927494Z",
     "start_time": "2025-01-14T15:18:18.925418Z"
    }
   },
   "cell_type": "code",
   "source": "example_text = tf.constant(inp[0])",
   "id": "4de89a399a7c721b",
   "outputs": [],
   "execution_count": 10
  },
  {
   "metadata": {
    "ExecuteTime": {
     "end_time": "2025-01-14T15:18:18.946291Z",
     "start_time": "2025-01-14T15:18:18.940386Z"
    }
   },
   "cell_type": "code",
   "source": [
    "print(example_text.numpy().decode())\n",
    "print(tf_lower_and_split_punct(example_text).numpy().decode())"
   ],
   "id": "38ff1053410acb0b",
   "outputs": [
    {
     "name": "stdout",
     "output_type": "stream",
     "text": [
      "Mi nɔ xwe do Mawu sɛ lɛ\n",
      "[START] mi nɔ xwe do mawu sɛ lɛ [END]\n"
     ]
    }
   ],
   "execution_count": 11
  },
  {
   "metadata": {
    "ExecuteTime": {
     "end_time": "2025-01-14T15:18:19.028804Z",
     "start_time": "2025-01-14T15:18:19.023446Z"
    }
   },
   "cell_type": "code",
   "source": [
    "\n",
    "\n",
    "input_text_processor = keras.layers.TextVectorization(\n",
    "        standardize=tf_lower_and_split_punct,\n",
    "      )"
   ],
   "id": "13dc7a8c9631339d",
   "outputs": [],
   "execution_count": 12
  },
  {
   "metadata": {
    "ExecuteTime": {
     "end_time": "2025-01-14T15:18:19.236227Z",
     "start_time": "2025-01-14T15:18:19.102219Z"
    }
   },
   "cell_type": "code",
   "source": [
    "input_text_processor.adapt(inp)\n",
    "input_text_processor.get_vocabulary()[:10]"
   ],
   "id": "1b0c1d0677e34ae5",
   "outputs": [
    {
     "data": {
      "text/plain": [
       "['',\n",
       " '[UNK]',\n",
       " np.str_('[START]'),\n",
       " np.str_('[END]'),\n",
       " np.str_('e'),\n",
       " np.str_('ɖo'),\n",
       " np.str_('ɔ'),\n",
       " np.str_('a'),\n",
       " np.str_('un'),\n",
       " np.str_('-')]"
      ]
     },
     "execution_count": 13,
     "metadata": {},
     "output_type": "execute_result"
    }
   ],
   "execution_count": 13
  },
  {
   "metadata": {
    "ExecuteTime": {
     "end_time": "2025-01-14T15:18:20.084254Z",
     "start_time": "2025-01-14T15:18:20.065296Z"
    }
   },
   "cell_type": "code",
   "source": "len(input_text_processor.get_vocabulary())",
   "id": "cee93195b9e2e9d6",
   "outputs": [
    {
     "data": {
      "text/plain": [
       "13444"
      ]
     },
     "execution_count": 14,
     "metadata": {},
     "output_type": "execute_result"
    }
   ],
   "execution_count": 14
  },
  {
   "metadata": {
    "ExecuteTime": {
     "end_time": "2025-01-14T15:18:20.469261Z",
     "start_time": "2025-01-14T15:18:20.357614Z"
    }
   },
   "cell_type": "code",
   "source": [
    "output_text_processor = keras.layers.TextVectorization(\n",
    "        standardize=tf_lower_and_split_punct)\n",
    "\n",
    "output_text_processor.adapt(targ)\n",
    "output_text_processor.get_vocabulary()[:10]"
   ],
   "id": "653a677181e0475b",
   "outputs": [
    {
     "data": {
      "text/plain": [
       "['',\n",
       " '[UNK]',\n",
       " np.str_('[START]'),\n",
       " np.str_('[END]'),\n",
       " np.str_('.'),\n",
       " np.str_('il'),\n",
       " np.str_('de'),\n",
       " np.str_('la'),\n",
       " np.str_('le'),\n",
       " np.str_('est')]"
      ]
     },
     "execution_count": 15,
     "metadata": {},
     "output_type": "execute_result"
    }
   ],
   "execution_count": 15
  },
  {
   "metadata": {
    "ExecuteTime": {
     "end_time": "2025-01-14T15:18:21.001559Z",
     "start_time": "2025-01-14T15:18:20.988467Z"
    }
   },
   "cell_type": "code",
   "source": [
    "dataset = tf.data.Dataset.from_tensor_slices((inp, targ)).shuffle(BUFFER_SIZE)\n",
    "dataset = dataset.batch(BATCH_SIZE)"
   ],
   "id": "201ec7f2cda6a5e4",
   "outputs": [],
   "execution_count": 16
  },
  {
   "metadata": {
    "ExecuteTime": {
     "end_time": "2025-01-14T15:18:21.868598Z",
     "start_time": "2025-01-14T15:18:21.824658Z"
    }
   },
   "cell_type": "code",
   "source": [
    "for example_input_batch, example_target_batch in dataset.take(1):\n",
    "    print(example_input_batch[:5])\n",
    "    print()\n",
    "    print(example_target_batch[:5])\n",
    "    break"
   ],
   "id": "e5643d049468e4dc",
   "outputs": [
    {
     "name": "stdout",
     "output_type": "stream",
     "text": [
      "tf.Tensor(\n",
      "[b'xo w\\xc9\\x9b \\xc3\\xa9 \\xc9\\x96\\xc3\\xa8'\n",
      " b'xwe wo \\xc9\\x96ie \\xc9\\x94 yewunk\\xc9\\x94nnyi\\xc9\\x96owuxwe \\xc9\\x96okpo do ali el\\xc9\\x94 ji'\n",
      " b'hwl\\xce\\xb5\\xcc\\x81n k\\xc3\\xa0n x\\xc3\\xa1 m\\xce\\xb5'\n",
      " b'j\\xc3\\xb2n\\xc9\\x94\\xcc\\x80 b\\xc3\\xa1 m\\xc3\\xac'\n",
      " b\"akw\\xc9\\x9b\\xcc\\x81 ma \\xc9\\x96'\\xc3\\xa0s\\xc3\\xad w\\xc3\\xa8 h\\xc5\\xadn gb\\xc9\\x94j\\xc9\\x9b\\xcc\\x81\"], shape=(5,), dtype=string)\n",
      "\n",
      "tf.Tensor(\n",
      "[b'elle est enceinte'\n",
      " b'il y a dix ans il y avait un cin\\xc3\\xa9ma dans cette rue'\n",
      " b'forcer une femme \\xc3\\xa0 commettre un adult\\xc3\\xa8re'\n",
      " b\"j'ai un visiteur\" b\"si tu n'as pas d'argent reste tranquille\"], shape=(5,), dtype=string)\n"
     ]
    }
   ],
   "execution_count": 17
  },
  {
   "metadata": {
    "ExecuteTime": {
     "end_time": "2025-01-14T15:18:22.488057Z",
     "start_time": "2025-01-14T15:18:22.486070Z"
    }
   },
   "cell_type": "code",
   "source": [
    "embedding_dim = 256\n",
    "units = 1024"
   ],
   "id": "138bb1c248e7f12d",
   "outputs": [],
   "execution_count": 18
  },
  {
   "metadata": {
    "ExecuteTime": {
     "end_time": "2025-01-14T15:18:24.261780Z",
     "start_time": "2025-01-14T15:18:24.259502Z"
    }
   },
   "cell_type": "code",
   "source": [
    "\n",
    "class ShapeChecker:\n",
    "    def __call__(self, tensor, expected_shape):\n",
    "        assert tensor.shape == expected_shape, f\"Expected {expected_shape}, got {tensor.shape}\"\n",
    "\n"
   ],
   "id": "97a21287514cc5b6",
   "outputs": [],
   "execution_count": 19
  },
  {
   "metadata": {
    "ExecuteTime": {
     "end_time": "2025-01-14T15:28:47.469778Z",
     "start_time": "2025-01-14T15:28:47.465461Z"
    }
   },
   "cell_type": "code",
   "source": [
    "class Encoder(nn.Module):\n",
    "    input_vocab_size: int\n",
    "    embedding_dim: int\n",
    "    enc_units: int\n",
    "\n",
    "    @nn.compact\n",
    "    def __call__(self, tokens,):\n",
    "\n",
    "        shape_checker = ShapeChecker()\n",
    "\n",
    "        embedding = nn.Embed(num_embeddings=self.input_vocab_size, features=self.embedding_dim)\n",
    "        gru = nn.RNN(nn.GRUCell(self.enc_units),return_carry=True)\n",
    "        batch_size, seq_length = tokens.shape\n",
    "        shape_checker(tokens, (batch_size, seq_length))\n",
    "\n",
    "        vectors = embedding(tokens)\n",
    "        shape_checker(vectors, (batch_size, seq_length, self.embedding_dim))\n",
    "        _, enc_output = gru(vectors, seq_lengths=seq_length)\n",
    "        shape_checker(enc_output, (batch_size, seq_length, self.enc_units))\n",
    "        return enc_output"
   ],
   "id": "4f481a27d941e93",
   "outputs": [],
   "execution_count": 46
  },
  {
   "metadata": {
    "ExecuteTime": {
     "end_time": "2025-01-14T15:28:47.841815Z",
     "start_time": "2025-01-14T15:28:47.838731Z"
    }
   },
   "cell_type": "code",
   "source": [
    "encoder = Encoder(input_text_processor.vocabulary_size(),\n",
    "                  embedding_dim, units)"
   ],
   "id": "abb423e02a56108d",
   "outputs": [],
   "execution_count": 47
  },
  {
   "metadata": {
    "ExecuteTime": {
     "end_time": "2025-01-14T15:28:48.163103Z",
     "start_time": "2025-01-14T15:28:48.152074Z"
    }
   },
   "cell_type": "code",
   "source": "example_tokens = input_text_processor(example_input_batch)",
   "id": "190b976f28081db2",
   "outputs": [],
   "execution_count": 48
  },
  {
   "metadata": {
    "ExecuteTime": {
     "end_time": "2025-01-14T15:28:48.659195Z",
     "start_time": "2025-01-14T15:28:48.513359Z"
    }
   },
   "cell_type": "code",
   "source": "params = encoder.init(jax.random.PRNGKey(0), jnp.array(example_tokens))",
   "id": "3e848c82ec61b9e5",
   "outputs": [],
   "execution_count": 49
  },
  {
   "metadata": {
    "ExecuteTime": {
     "end_time": "2025-01-14T15:28:48.911859Z",
     "start_time": "2025-01-14T15:28:48.908124Z"
    }
   },
   "cell_type": "code",
   "source": "example_tokens",
   "id": "76faec7667706da7",
   "outputs": [
    {
     "data": {
      "text/plain": [
       "<tf.Tensor: shape=(64, 14), dtype=int64, numpy=\n",
       "array([[    2,    63,    24,    13,    72,     3,     0,     0,     0,\n",
       "            0,     0,     0,     0,     0],\n",
       "       [    2,    52,   390,   235,     6,  3106,    54,    42,   119,\n",
       "          152,    50,     3,     0,     0],\n",
       "       [    2,  7176,   239,   158,    20,     3,     0,     0,     0,\n",
       "            0,     0,     0,     0,     0],\n",
       "       [    2, 10979,   536,    30,     3,     0,     0,     0,     0,\n",
       "            0,     0,     0,     0,     0],\n",
       "       [    2,   342,    45,  2024,    90,   279,   955,     3,     0,\n",
       "            0,     0,     0,     0,     0],\n",
       "       [    2,  5302,  2823,     9,  4248,     9,  2946,     9,  3433,\n",
       "            3,     0,     0,     0,     0],\n",
       "       [    2,   225,  2875,     3,     0,     0,     0,     0,     0,\n",
       "            0,     0,     0,     0,     0],\n",
       "       [    2,     4,    73,   219,    17,   153,    13,  1122,  8804,\n",
       "            3,     0,     0,     0,     0],\n",
       "       [    2,     7,    22,   135,   157,    34,     3,     0,     0,\n",
       "            0,     0,     0,     0,     0],\n",
       "       [    2,   471,     3,     0,     0,     0,     0,     0,     0,\n",
       "            0,     0,     0,     0,     0],\n",
       "       [    2,  7548,     9,  7122,     9, 10862,     3,     0,     0,\n",
       "            0,     0,     0,     0,     0],\n",
       "       [    2,   402,    16,   299,   251,    12,  3464,    18,    35,\n",
       "          112,     3,     0,     0,     0],\n",
       "       [    2,  8034,     9,  8029,     3,     0,     0,     0,     0,\n",
       "            0,     0,     0,     0,     0],\n",
       "       [    2,  2113,   109,     3,     0,     0,     0,     0,     0,\n",
       "            0,     0,     0,     0,     0],\n",
       "       [    2,     8,    72,  2827,     3,     0,     0,     0,     0,\n",
       "            0,     0,     0,     0,     0],\n",
       "       [    2,     4,    14,   524,  2766,     7,  1233,     3,     0,\n",
       "            0,     0,     0,     0,     0],\n",
       "       [    2,  7389,    38,    22,  7454,    15,    34,     3,     0,\n",
       "            0,     0,     0,     0,     0],\n",
       "       [    2,   362,   786,     6,     4,    12,   252,     3,     0,\n",
       "            0,     0,     0,     0,     0],\n",
       "       [    2,  2757,    36,   100,    32,     5,     3,     0,     0,\n",
       "            0,     0,     0,     0,     0],\n",
       "       [    2,     4,    26,   110,    11,    51,     7,     3,     0,\n",
       "            0,     0,     0,     0,     0],\n",
       "       [    2,    11,   221,     5,  1493,    19,    23,     3,     0,\n",
       "            0,     0,     0,     0,     0],\n",
       "       [    2,    13,    22,  5357,    44,     3,     0,     0,     0,\n",
       "            0,     0,     0,     0,     0],\n",
       "       [    2,    13,    46,  2182,  5331,     3,     0,     0,     0,\n",
       "            0,     0,     0,     0,     0],\n",
       "       [    2,   140,     5,   657,    34,   594,   153,    13,    49,\n",
       "            3,     0,     0,     0,     0],\n",
       "       [    2,   500,    81,   212,    17,    16,   125,    61,   127,\n",
       "          255,   241,     3,     0,     0],\n",
       "       [    2,   271,   472,    31,    28,    75,    44,     3,     0,\n",
       "            0,     0,     0,     0,     0],\n",
       "       [    2,  4896,   355,    32,    12,    36,     4,   265,    35,\n",
       "            6,    10,    10,    10,     3],\n",
       "       [    2,     4,   656,    77,  2064,   290,     3,     0,     0,\n",
       "            0,     0,     0,     0,     0],\n",
       "       [    2,     8,   336,    31,   265,   322,     3,     0,     0,\n",
       "            0,     0,     0,     0,     0],\n",
       "       [    2,   970,  6770,     9,   177,    70,     3,     0,     0,\n",
       "            0,     0,     0,     0,     0],\n",
       "       [    2,  9186,     9,  9170,     3,     0,     0,     0,     0,\n",
       "            0,     0,     0,     0,     0],\n",
       "       [    2,    48,    43,  1692,    43,    16,    15,     5,  1600,\n",
       "           10,     3,     0,     0,     0],\n",
       "       [    2,   278,   689,    34,    22,    15,    37,    34,     3,\n",
       "            0,     0,     0,     0,     0],\n",
       "       [    2,  7469,    15,    32,    23,     3,     0,     0,     0,\n",
       "            0,     0,     0,     0,     0],\n",
       "       [    2,    72,     9,    68,  2897,     9,   515,     3,     0,\n",
       "            0,     0,     0,     0,     0],\n",
       "       [    2,   223,   416,     3,     0,     0,     0,     0,     0,\n",
       "            0,     0,     0,     0,     0],\n",
       "       [    2,     7,     5,  1492,     5,   123,    21,    40,     3,\n",
       "            0,     0,     0,     0,     0],\n",
       "       [    2,     7,     5,   111,    40,     3,     0,     0,     0,\n",
       "            0,     0,     0,     0,     0],\n",
       "       [    2,   147,   282,   184,    49,   138,     3,     0,     0,\n",
       "            0,     0,     0,     0,     0],\n",
       "       [    2,    37,   686,     3,     0,     0,     0,     0,     0,\n",
       "            0,     0,     0,     0,     0],\n",
       "       [    2,   206,    22,   114,   506,   114,   506,     3,     0,\n",
       "            0,     0,     0,     0,     0],\n",
       "       [    2,     4,   170,   843,   484,     3,     0,     0,     0,\n",
       "            0,     0,     0,     0,     0],\n",
       "       [    2,   592,     7,    12,  2324,   315,    23,     3,     0,\n",
       "            0,     0,     0,     0,     0],\n",
       "       [    2,  1824,    32,    35,     5,  1594,    24,     5,   183,\n",
       "           54,    54,    37,   194,     3],\n",
       "       [    2,   417,     6,     5,  1228,   251,    19,    10,     3,\n",
       "            0,     0,     0,     0,     0],\n",
       "       [    2,     4,  1780,    15,  4371,    85,    21,     6,    10,\n",
       "            3,     0,     0,     0,     0],\n",
       "       [    2,  4340,   192,  1773,     3,     0,     0,     0,     0,\n",
       "            0,     0,     0,     0,     0],\n",
       "       [    2,     4,     5,  1400,   120,   517,    24,     3,     0,\n",
       "            0,     0,     0,     0,     0],\n",
       "       [    2,   151,    30,     3,     0,     0,     0,     0,     0,\n",
       "            0,     0,     0,     0,     0],\n",
       "       [    2,    20,   145,   483,    64,     9,  4886,     9,  8102,\n",
       "            3,     0,     0,     0,     0],\n",
       "       [    2,  2155,    14,    12,    52,    53,    31,    14,   151,\n",
       "          356,    21,     3,     0,     0],\n",
       "       [    2,    76,   377,    19,   572,   105,   599,     6,   349,\n",
       "           10,     3,     0,     0,     0],\n",
       "       [    2,    65,    34,     3,     0,     0,     0,     0,     0,\n",
       "            0,     0,     0,     0,     0],\n",
       "       [    2,   206,  4234,     3,     0,     0,     0,     0,     0,\n",
       "            0,     0,     0,     0,     0],\n",
       "       [    2,     8,    77,    69,    13,   170,    61,     3,     0,\n",
       "            0,     0,     0,     0,     0],\n",
       "       [    2,     4,   333,    38,    89,     3,     0,     0,     0,\n",
       "            0,     0,     0,     0,     0],\n",
       "       [    2,  4387,     3,     0,     0,     0,     0,     0,     0,\n",
       "            0,     0,     0,     0,     0],\n",
       "       [    2,  1446,    18,   111,    21,    66,  1092,    21,    43,\n",
       "            6,  1133,    24,     3,     0],\n",
       "       [    2,    68,   499,     3,     0,     0,     0,     0,     0,\n",
       "            0,     0,     0,     0,     0],\n",
       "       [    2,    57,  3551,     6,     5,  8344,     6,    55,    24,\n",
       "            3,     0,     0,     0,     0],\n",
       "       [    2,     8,  4006,  1928,     3,     0,     0,     0,     0,\n",
       "            0,     0,     0,     0,     0],\n",
       "       [    2,     4,    14,     6,   121,    11,     7,   216,   468,\n",
       "           11,    42,  1725,    20,     3],\n",
       "       [    2,  7555,    34,     8,   115,     3,     0,     0,     0,\n",
       "            0,     0,     0,     0,     0],\n",
       "       [    2,    37,  2534,    87,     6,    50,    12,   286,     3,\n",
       "            0,     0,     0,     0,     0]])>"
      ]
     },
     "execution_count": 50,
     "metadata": {},
     "output_type": "execute_result"
    }
   ],
   "execution_count": 50
  },
  {
   "metadata": {
    "ExecuteTime": {
     "end_time": "2025-01-14T15:28:49.710459Z",
     "start_time": "2025-01-14T15:28:49.705033Z"
    }
   },
   "cell_type": "code",
   "source": "jnp.array(example_tokens)",
   "id": "d6de60c1cd98dca0",
   "outputs": [
    {
     "data": {
      "text/plain": [
       "Array([[    2,    63,    24,    13,    72,     3,     0,     0,     0,\n",
       "            0,     0,     0,     0,     0],\n",
       "       [    2,    52,   390,   235,     6,  3106,    54,    42,   119,\n",
       "          152,    50,     3,     0,     0],\n",
       "       [    2,  7176,   239,   158,    20,     3,     0,     0,     0,\n",
       "            0,     0,     0,     0,     0],\n",
       "       [    2, 10979,   536,    30,     3,     0,     0,     0,     0,\n",
       "            0,     0,     0,     0,     0],\n",
       "       [    2,   342,    45,  2024,    90,   279,   955,     3,     0,\n",
       "            0,     0,     0,     0,     0],\n",
       "       [    2,  5302,  2823,     9,  4248,     9,  2946,     9,  3433,\n",
       "            3,     0,     0,     0,     0],\n",
       "       [    2,   225,  2875,     3,     0,     0,     0,     0,     0,\n",
       "            0,     0,     0,     0,     0],\n",
       "       [    2,     4,    73,   219,    17,   153,    13,  1122,  8804,\n",
       "            3,     0,     0,     0,     0],\n",
       "       [    2,     7,    22,   135,   157,    34,     3,     0,     0,\n",
       "            0,     0,     0,     0,     0],\n",
       "       [    2,   471,     3,     0,     0,     0,     0,     0,     0,\n",
       "            0,     0,     0,     0,     0],\n",
       "       [    2,  7548,     9,  7122,     9, 10862,     3,     0,     0,\n",
       "            0,     0,     0,     0,     0],\n",
       "       [    2,   402,    16,   299,   251,    12,  3464,    18,    35,\n",
       "          112,     3,     0,     0,     0],\n",
       "       [    2,  8034,     9,  8029,     3,     0,     0,     0,     0,\n",
       "            0,     0,     0,     0,     0],\n",
       "       [    2,  2113,   109,     3,     0,     0,     0,     0,     0,\n",
       "            0,     0,     0,     0,     0],\n",
       "       [    2,     8,    72,  2827,     3,     0,     0,     0,     0,\n",
       "            0,     0,     0,     0,     0],\n",
       "       [    2,     4,    14,   524,  2766,     7,  1233,     3,     0,\n",
       "            0,     0,     0,     0,     0],\n",
       "       [    2,  7389,    38,    22,  7454,    15,    34,     3,     0,\n",
       "            0,     0,     0,     0,     0],\n",
       "       [    2,   362,   786,     6,     4,    12,   252,     3,     0,\n",
       "            0,     0,     0,     0,     0],\n",
       "       [    2,  2757,    36,   100,    32,     5,     3,     0,     0,\n",
       "            0,     0,     0,     0,     0],\n",
       "       [    2,     4,    26,   110,    11,    51,     7,     3,     0,\n",
       "            0,     0,     0,     0,     0],\n",
       "       [    2,    11,   221,     5,  1493,    19,    23,     3,     0,\n",
       "            0,     0,     0,     0,     0],\n",
       "       [    2,    13,    22,  5357,    44,     3,     0,     0,     0,\n",
       "            0,     0,     0,     0,     0],\n",
       "       [    2,    13,    46,  2182,  5331,     3,     0,     0,     0,\n",
       "            0,     0,     0,     0,     0],\n",
       "       [    2,   140,     5,   657,    34,   594,   153,    13,    49,\n",
       "            3,     0,     0,     0,     0],\n",
       "       [    2,   500,    81,   212,    17,    16,   125,    61,   127,\n",
       "          255,   241,     3,     0,     0],\n",
       "       [    2,   271,   472,    31,    28,    75,    44,     3,     0,\n",
       "            0,     0,     0,     0,     0],\n",
       "       [    2,  4896,   355,    32,    12,    36,     4,   265,    35,\n",
       "            6,    10,    10,    10,     3],\n",
       "       [    2,     4,   656,    77,  2064,   290,     3,     0,     0,\n",
       "            0,     0,     0,     0,     0],\n",
       "       [    2,     8,   336,    31,   265,   322,     3,     0,     0,\n",
       "            0,     0,     0,     0,     0],\n",
       "       [    2,   970,  6770,     9,   177,    70,     3,     0,     0,\n",
       "            0,     0,     0,     0,     0],\n",
       "       [    2,  9186,     9,  9170,     3,     0,     0,     0,     0,\n",
       "            0,     0,     0,     0,     0],\n",
       "       [    2,    48,    43,  1692,    43,    16,    15,     5,  1600,\n",
       "           10,     3,     0,     0,     0],\n",
       "       [    2,   278,   689,    34,    22,    15,    37,    34,     3,\n",
       "            0,     0,     0,     0,     0],\n",
       "       [    2,  7469,    15,    32,    23,     3,     0,     0,     0,\n",
       "            0,     0,     0,     0,     0],\n",
       "       [    2,    72,     9,    68,  2897,     9,   515,     3,     0,\n",
       "            0,     0,     0,     0,     0],\n",
       "       [    2,   223,   416,     3,     0,     0,     0,     0,     0,\n",
       "            0,     0,     0,     0,     0],\n",
       "       [    2,     7,     5,  1492,     5,   123,    21,    40,     3,\n",
       "            0,     0,     0,     0,     0],\n",
       "       [    2,     7,     5,   111,    40,     3,     0,     0,     0,\n",
       "            0,     0,     0,     0,     0],\n",
       "       [    2,   147,   282,   184,    49,   138,     3,     0,     0,\n",
       "            0,     0,     0,     0,     0],\n",
       "       [    2,    37,   686,     3,     0,     0,     0,     0,     0,\n",
       "            0,     0,     0,     0,     0],\n",
       "       [    2,   206,    22,   114,   506,   114,   506,     3,     0,\n",
       "            0,     0,     0,     0,     0],\n",
       "       [    2,     4,   170,   843,   484,     3,     0,     0,     0,\n",
       "            0,     0,     0,     0,     0],\n",
       "       [    2,   592,     7,    12,  2324,   315,    23,     3,     0,\n",
       "            0,     0,     0,     0,     0],\n",
       "       [    2,  1824,    32,    35,     5,  1594,    24,     5,   183,\n",
       "           54,    54,    37,   194,     3],\n",
       "       [    2,   417,     6,     5,  1228,   251,    19,    10,     3,\n",
       "            0,     0,     0,     0,     0],\n",
       "       [    2,     4,  1780,    15,  4371,    85,    21,     6,    10,\n",
       "            3,     0,     0,     0,     0],\n",
       "       [    2,  4340,   192,  1773,     3,     0,     0,     0,     0,\n",
       "            0,     0,     0,     0,     0],\n",
       "       [    2,     4,     5,  1400,   120,   517,    24,     3,     0,\n",
       "            0,     0,     0,     0,     0],\n",
       "       [    2,   151,    30,     3,     0,     0,     0,     0,     0,\n",
       "            0,     0,     0,     0,     0],\n",
       "       [    2,    20,   145,   483,    64,     9,  4886,     9,  8102,\n",
       "            3,     0,     0,     0,     0],\n",
       "       [    2,  2155,    14,    12,    52,    53,    31,    14,   151,\n",
       "          356,    21,     3,     0,     0],\n",
       "       [    2,    76,   377,    19,   572,   105,   599,     6,   349,\n",
       "           10,     3,     0,     0,     0],\n",
       "       [    2,    65,    34,     3,     0,     0,     0,     0,     0,\n",
       "            0,     0,     0,     0,     0],\n",
       "       [    2,   206,  4234,     3,     0,     0,     0,     0,     0,\n",
       "            0,     0,     0,     0,     0],\n",
       "       [    2,     8,    77,    69,    13,   170,    61,     3,     0,\n",
       "            0,     0,     0,     0,     0],\n",
       "       [    2,     4,   333,    38,    89,     3,     0,     0,     0,\n",
       "            0,     0,     0,     0,     0],\n",
       "       [    2,  4387,     3,     0,     0,     0,     0,     0,     0,\n",
       "            0,     0,     0,     0,     0],\n",
       "       [    2,  1446,    18,   111,    21,    66,  1092,    21,    43,\n",
       "            6,  1133,    24,     3,     0],\n",
       "       [    2,    68,   499,     3,     0,     0,     0,     0,     0,\n",
       "            0,     0,     0,     0,     0],\n",
       "       [    2,    57,  3551,     6,     5,  8344,     6,    55,    24,\n",
       "            3,     0,     0,     0,     0],\n",
       "       [    2,     8,  4006,  1928,     3,     0,     0,     0,     0,\n",
       "            0,     0,     0,     0,     0],\n",
       "       [    2,     4,    14,     6,   121,    11,     7,   216,   468,\n",
       "           11,    42,  1725,    20,     3],\n",
       "       [    2,  7555,    34,     8,   115,     3,     0,     0,     0,\n",
       "            0,     0,     0,     0,     0],\n",
       "       [    2,    37,  2534,    87,     6,    50,    12,   286,     3,\n",
       "            0,     0,     0,     0,     0]], dtype=int32)"
      ]
     },
     "execution_count": 51,
     "metadata": {},
     "output_type": "execute_result"
    }
   ],
   "execution_count": 51
  },
  {
   "metadata": {
    "ExecuteTime": {
     "end_time": "2025-01-14T15:28:50.780177Z",
     "start_time": "2025-01-14T15:28:50.701542Z"
    }
   },
   "cell_type": "code",
   "source": "output= encoder.apply(params, jnp.array(example_tokens))",
   "id": "dd0cd08d061b48e1",
   "outputs": [],
   "execution_count": 52
  },
  {
   "metadata": {
    "ExecuteTime": {
     "end_time": "2025-01-14T15:28:51.923963Z",
     "start_time": "2025-01-14T15:28:51.920879Z"
    }
   },
   "cell_type": "code",
   "source": "output.shape",
   "id": "c9642d16a5e47dcd",
   "outputs": [
    {
     "data": {
      "text/plain": [
       "(64, 14, 1024)"
      ]
     },
     "execution_count": 53,
     "metadata": {},
     "output_type": "execute_result"
    }
   ],
   "execution_count": 53
  },
  {
   "metadata": {
    "ExecuteTime": {
     "end_time": "2025-01-14T18:27:57.543956Z",
     "start_time": "2025-01-14T18:27:57.539088Z"
    }
   },
   "cell_type": "code",
   "source": [
    "class LuongAttention(nn.Module):\n",
    "    units: jnp.int8  # Nombre d'unités pour la projection\n",
    "\n",
    "    @nn.compact\n",
    "    def __call__(self, decoder_output, encoder_output):\n",
    "        shape_checker = ShapeChecker()\n",
    "\n",
    "        # Projetez l'encodeur et le décodeur dans le même espace de dimensions\n",
    "        wa_enc = nn.Dense(features=self.units, use_bias=False)  # Pour encoder_output\n",
    "        wa_dec = nn.Dense(features=self.units, use_bias=False)  # Pour decoder_output\n",
    "        va = nn.Dense(features=1, use_bias=False)  # Projection pour score scalaire\n",
    "\n",
    "        # Agrandissez decoder_output pour qu'il corresponde au temps séquentiel de l'encodeur\n",
    "        decoder_output = jnp.tile(decoder_output, [1, encoder_output.shape[1], 1])  # (batch_size, seq_len, units)\n",
    "        shape_checker(decoder_output, (encoder_output.shape[0], encoder_output.shape[1], decoder_output.shape[-1]))\n",
    "\n",
    "        # Calcul du score (produit scalaire + activation tanh)\n",
    "        score = va(nn.tanh(wa_enc(encoder_output) + wa_dec(decoder_output)))  # (batch_size, seq_len, 1)\n",
    "        shape_checker(score, (encoder_output.shape[0], encoder_output.shape[1], 1))\n",
    "\n",
    "        # Normalisation via softmax sur l'axe temporel (axis=1)\n",
    "        score = nn.softmax(score, axis=1)  # Toujours (batch_size, seq_len, 1)\n",
    "        shape_checker(score, (encoder_output.shape[0], encoder_output.shape[1], 1))\n",
    "\n",
    "        score = jnp.transpose(score, (0, 2, 1))\n",
    "\n",
    "        alignment = nn.softmax(score, axis=-1)  # (batch_size, 1, seq_len)\n",
    "        shape_checker(alignment, (encoder_output.shape[0], 1, encoder_output.shape[1]))\n",
    "        context = jnp.matmul(alignment, encoder_output)  # (batch_size, 1, units)\n",
    "        shape_checker(context, (encoder_output.shape[0], 1, encoder_output.shape[2]))\n",
    "        return context, alignment\n",
    "\n"
   ],
   "id": "223326b6b083946e",
   "outputs": [],
   "execution_count": 204
  },
  {
   "metadata": {
    "ExecuteTime": {
     "end_time": "2025-01-14T18:27:57.955986Z",
     "start_time": "2025-01-14T18:27:57.954020Z"
    }
   },
   "cell_type": "code",
   "source": "attention = LuongAttention(units)",
   "id": "4ad06e8d4c91d219",
   "outputs": [],
   "execution_count": 205
  },
  {
   "metadata": {
    "ExecuteTime": {
     "end_time": "2025-01-14T18:28:41.443165Z",
     "start_time": "2025-01-14T18:28:41.440216Z"
    }
   },
   "cell_type": "code",
   "source": [
    "example_attention_query = tf.random.normal(shape=[len(example_tokens), 1, 1024])\n",
    "example_attention_query = jnp.array(example_attention_query)"
   ],
   "id": "64f1654a106c1222",
   "outputs": [],
   "execution_count": 215
  },
  {
   "metadata": {
    "ExecuteTime": {
     "end_time": "2025-01-14T18:28:41.936787Z",
     "start_time": "2025-01-14T18:28:41.919305Z"
    }
   },
   "cell_type": "code",
   "source": "params_att = attention.init(jax.random.PRNGKey(0), example_attention_query, output)",
   "id": "b15dbe18db99c5f8",
   "outputs": [],
   "execution_count": 216
  },
  {
   "metadata": {
    "ExecuteTime": {
     "end_time": "2025-01-14T18:28:42.125738Z",
     "start_time": "2025-01-14T18:28:42.113998Z"
    }
   },
   "cell_type": "code",
   "source": "context, alignment = attention.apply(params_att, example_attention_query, output)",
   "id": "219e3c7d33f5cd22",
   "outputs": [],
   "execution_count": 217
  },
  {
   "metadata": {
    "ExecuteTime": {
     "end_time": "2025-01-14T18:28:42.851862Z",
     "start_time": "2025-01-14T18:28:42.849636Z"
    }
   },
   "cell_type": "code",
   "source": "context.shape",
   "id": "b9cf04ceebd1c1fa",
   "outputs": [
    {
     "data": {
      "text/plain": [
       "(64, 1, 1024)"
      ]
     },
     "execution_count": 218,
     "metadata": {},
     "output_type": "execute_result"
    }
   ],
   "execution_count": 218
  },
  {
   "metadata": {
    "ExecuteTime": {
     "end_time": "2025-01-14T18:28:43.854355Z",
     "start_time": "2025-01-14T18:28:43.851947Z"
    }
   },
   "cell_type": "code",
   "source": "alignment.shape",
   "id": "a09965716a27e674",
   "outputs": [
    {
     "data": {
      "text/plain": [
       "(64, 1, 14)"
      ]
     },
     "execution_count": 219,
     "metadata": {},
     "output_type": "execute_result"
    }
   ],
   "execution_count": 219
  },
  {
   "metadata": {
    "ExecuteTime": {
     "end_time": "2025-01-14T18:29:55.320070Z",
     "start_time": "2025-01-14T18:29:55.311993Z"
    }
   },
   "cell_type": "code",
   "source": [
    "class DecoderInput(typing.NamedTuple):\n",
    "    new_tokens: Any\n",
    "    enc_output: Any\n",
    "\n",
    "class DecoderOutput(typing.NamedTuple):\n",
    "    logits: Any\n",
    "    attention_weights: Any"
   ],
   "id": "598811b804604c99",
   "outputs": [],
   "execution_count": 220
  },
  {
   "metadata": {
    "ExecuteTime": {
     "end_time": "2025-01-14T20:11:34.087087Z",
     "start_time": "2025-01-14T20:11:34.069294Z"
    }
   },
   "cell_type": "code",
   "source": [
    "class Decoder(nn.Module):\n",
    "    output_vocab_size: jnp.int8\n",
    "    embedding_dim: jnp.int8\n",
    "    dec_units: jnp.int8\n",
    "\n",
    "    @nn.compact\n",
    "    def __call__(self, inputs: DecoderInput,\n",
    "                 state=None):\n",
    "        shape_checker = ShapeChecker()\n",
    "\n",
    "        vectors = nn.Embed(num_embeddings=self.output_vocab_size, features=self.embedding_dim)(inputs.new_tokens)\n",
    "        #shape_checker(vectors, (inputs.new_tokens.shape[0], 1,  self.embedding_dim))\n",
    "\n",
    "        gru = nn.RNN(nn.GRUCell(self.dec_units), return_carry=True)\n",
    "        state, rnn_out = gru(vectors)\n",
    "    #shape_checker(rnn_out, (inputs.new_tokens.shape[0], 1, self.dec_units))\n",
    "\n",
    "        context, alignment = LuongAttention(self.dec_units)(rnn_out, inputs.enc_output)\n",
    "        #shape_checker(context, (inputs.new_tokens.shape[0], 1, self.dec_units))\n",
    "        #shape_checker(alignment, (inputs.new_tokens.shape[0], 1, inputs.enc_output.shape[1]))\n",
    "\n",
    "        context_and_rnn_output = jnp.concatenate([context, rnn_out], axis=-1)\n",
    "        Wc = nn.Dense(features=self.dec_units, use_bias=False)\n",
    "        attention_vector = jnp.tanh(Wc(context_and_rnn_output))\n",
    "        #shape_checker(attention_vector, (inputs.new_tokens.shape[0], 1, self.dec_units))\n",
    "\n",
    "        logits = nn.Dense(features=self.output_vocab_size)(attention_vector)\n",
    "        #shape_checker(logits, (inputs.new_tokens.shape[0], 1, self.output_vocab_size))\n",
    "        return DecoderOutput(logits=logits, attention_weights=alignment)"
   ],
   "id": "4a689928e17dc272",
   "outputs": [],
   "execution_count": 316
  },
  {
   "metadata": {
    "ExecuteTime": {
     "end_time": "2025-01-14T20:11:34.747898Z",
     "start_time": "2025-01-14T20:11:34.745471Z"
    }
   },
   "cell_type": "code",
   "source": "decoder = Decoder(output_text_processor.vocabulary_size(),embedding_dim, units)",
   "id": "b1002bbf6a651905",
   "outputs": [],
   "execution_count": 317
  },
  {
   "metadata": {
    "ExecuteTime": {
     "end_time": "2025-01-14T20:11:35.086413Z",
     "start_time": "2025-01-14T20:11:35.063287Z"
    }
   },
   "cell_type": "code",
   "source": [
    "example_output_tokens = output_text_processor(example_target_batch)\n",
    "\n",
    "start_index = output_text_processor.get_vocabulary().index('[START]')\n",
    "first_token = tf.constant([[start_index]] * example_output_tokens.shape[0])"
   ],
   "id": "a934908c9f434f06",
   "outputs": [],
   "execution_count": 318
  },
  {
   "metadata": {
    "ExecuteTime": {
     "end_time": "2025-01-14T20:11:35.414539Z",
     "start_time": "2025-01-14T20:11:35.411418Z"
    }
   },
   "cell_type": "code",
   "source": [
    "first_token = jnp.array(first_token)\n",
    "example_output_tokens = jnp.array(example_output_tokens)"
   ],
   "id": "390b07fc0a881358",
   "outputs": [],
   "execution_count": 319
  },
  {
   "metadata": {
    "ExecuteTime": {
     "end_time": "2025-01-14T20:11:35.820502Z",
     "start_time": "2025-01-14T20:11:35.591351Z"
    }
   },
   "cell_type": "code",
   "source": [
    "params_dec = decoder.init(jax.random.PRNGKey(0),  DecoderInput(new_tokens=first_token,\n",
    "                                                               enc_output=output))"
   ],
   "id": "50bede4835dd0aef",
   "outputs": [],
   "execution_count": 320
  },
  {
   "metadata": {
    "ExecuteTime": {
     "end_time": "2025-01-14T20:11:36.039140Z",
     "start_time": "2025-01-14T20:11:35.958302Z"
    }
   },
   "cell_type": "code",
   "source": [
    "decoder_output = decoder.apply(params_dec, DecoderInput(new_tokens=first_token,\n",
    "                                                        enc_output=output))"
   ],
   "id": "e332df73bf02ace",
   "outputs": [],
   "execution_count": 321
  },
  {
   "metadata": {
    "ExecuteTime": {
     "end_time": "2025-01-14T20:11:36.149981Z",
     "start_time": "2025-01-14T20:11:36.146596Z"
    }
   },
   "cell_type": "code",
   "source": [
    "class Seq2Seq(nn.Module):\n",
    "    encoder: Encoder\n",
    "    decoder: Decoder\n",
    "\n",
    "    @nn.compact\n",
    "    def __call__(self, encoder_input_tokens, decoder_input_tokens):\n",
    "        enc_output = self.encoder(encoder_input_tokens)\n",
    "        decoder_input = DecoderInput(new_tokens=decoder_input_tokens, enc_output=enc_output)\n",
    "        decoder_output = self.decoder(decoder_input)\n",
    "        return decoder_output"
   ],
   "id": "d0df7833d6d48430",
   "outputs": [],
   "execution_count": 322
  },
  {
   "metadata": {
    "ExecuteTime": {
     "end_time": "2025-01-14T20:11:36.297383Z",
     "start_time": "2025-01-14T20:11:36.295638Z"
    }
   },
   "cell_type": "code",
   "source": "seq2seq = Seq2Seq(encoder, decoder)",
   "id": "3770389e8e41081f",
   "outputs": [],
   "execution_count": 323
  },
  {
   "metadata": {
    "ExecuteTime": {
     "end_time": "2025-01-14T20:11:37.048602Z",
     "start_time": "2025-01-14T20:11:36.592879Z"
    }
   },
   "cell_type": "code",
   "source": "params_seq2seq = seq2seq.init(jax.random.PRNGKey(0),jnp.array(example_tokens), first_token )",
   "id": "a65eed57f81f7e14",
   "outputs": [],
   "execution_count": 324
  },
  {
   "metadata": {
    "ExecuteTime": {
     "end_time": "2025-01-14T20:11:37.103322Z",
     "start_time": "2025-01-14T20:11:37.070021Z"
    }
   },
   "cell_type": "code",
   "source": [
    "import optax\n",
    "\n",
    "optimizer = optax.adam(1e-3)"
   ],
   "id": "2402c287de1edbfc",
   "outputs": [],
   "execution_count": 325
  },
  {
   "metadata": {
    "ExecuteTime": {
     "end_time": "2025-01-14T20:11:37.222245Z",
     "start_time": "2025-01-14T20:11:37.192057Z"
    }
   },
   "cell_type": "code",
   "source": [
    "from flax.training import train_state\n",
    "model_state = train_state.TrainState.create(apply_fn=seq2seq.apply, params=params_seq2seq, tx=optimizer)"
   ],
   "id": "5c993d0dd58f6f55",
   "outputs": [],
   "execution_count": 326
  },
  {
   "metadata": {
    "ExecuteTime": {
     "end_time": "2025-01-14T20:11:37.679013Z",
     "start_time": "2025-01-14T20:11:37.676451Z"
    }
   },
   "cell_type": "code",
   "source": "",
   "id": "ffe64e8fe5080aa0",
   "outputs": [],
   "execution_count": null
  },
  {
   "metadata": {
    "ExecuteTime": {
     "end_time": "2025-01-14T20:11:37.907957Z",
     "start_time": "2025-01-14T20:11:37.903061Z"
    }
   },
   "cell_type": "code",
   "source": [
    "def calculate_loss(state, params, batch):\n",
    "    data_inputs, labels = batch\n",
    "    data_inputs = jnp.array(data_inputs)\n",
    "    labels = jnp.array(labels)\n",
    "\n",
    "    max_target_length = labels.shape[1]\n",
    "    loss = 0.0\n",
    "    for i in range(max_target_length-1):\n",
    "        new_labels = labels[:, i:i+2]\n",
    "        logits = seq2seq.apply(params, data_inputs, new_labels)\n",
    "        logits = logits.squeeze(axis=-1)\n",
    "\n",
    "        step_loss = optax.sigmoid_binary_cross_entropy(logits, new_labels)\n",
    "        step_loss = loss.mean()\n",
    "        loss += step_loss\n",
    "    return loss\n",
    "\n",
    "\n",
    "\n",
    "\n"
   ],
   "id": "674a869f33a9f000",
   "outputs": [],
   "execution_count": 327
  },
  {
   "metadata": {
    "ExecuteTime": {
     "end_time": "2025-01-14T20:11:39.469852Z",
     "start_time": "2025-01-14T20:11:39.467666Z"
    }
   },
   "cell_type": "code",
   "source": "grad_fn = jax.value_and_grad(calculate_loss, argnums=1)",
   "id": "b18e9b6208141044",
   "outputs": [],
   "execution_count": 328
  },
  {
   "metadata": {
    "ExecuteTime": {
     "end_time": "2025-01-14T20:11:40.116912Z",
     "start_time": "2025-01-14T20:11:40.114834Z"
    }
   },
   "cell_type": "code",
   "source": [
    "\n",
    "def train_step(state, batch):\n",
    "    loss, grads = grad_fn(state, state.params, batch)\n",
    "    new_state = state.apply_gradients(grads=grads)\n",
    "    return new_state, loss\n"
   ],
   "id": "7c9116c6ce3ee67e",
   "outputs": [],
   "execution_count": 329
  },
  {
   "metadata": {
    "ExecuteTime": {
     "end_time": "2025-01-14T20:11:40.648124Z",
     "start_time": "2025-01-14T20:11:40.646119Z"
    }
   },
   "cell_type": "code",
   "source": [
    "def train_epoch(state, train_ds):\n",
    "    losses = []\n",
    "    for batch in train_ds:\n",
    "        state, loss = train_step(state, batch)\n",
    "        losses.append(loss)\n",
    "    return state"
   ],
   "id": "d6f61629ada7a2e8",
   "outputs": [],
   "execution_count": 330
  },
  {
   "metadata": {
    "ExecuteTime": {
     "end_time": "2025-01-14T20:11:41.242161Z",
     "start_time": "2025-01-14T20:11:41.239599Z"
    }
   },
   "cell_type": "code",
   "source": "input_text_processor",
   "id": "416f69e815d62cc6",
   "outputs": [
    {
     "data": {
      "text/plain": [
       "<TextVectorization name=text_vectorization, built=True>"
      ]
     },
     "execution_count": 331,
     "metadata": {},
     "output_type": "execute_result"
    }
   ],
   "execution_count": 331
  },
  {
   "metadata": {
    "ExecuteTime": {
     "end_time": "2025-01-14T20:11:44.240890Z",
     "start_time": "2025-01-14T20:11:43.763861Z"
    }
   },
   "cell_type": "code",
   "source": "trained_state = train_epoch(model_state, dataset_jax)",
   "id": "20a83750bdc88b40",
   "outputs": [
    {
     "ename": "AssertionError",
     "evalue": "Expected (64, 27, 1024), got (64, 54, 1024)",
     "output_type": "error",
     "traceback": [
      "\u001B[0;31m---------------------------------------------------------------------------\u001B[0m",
      "\u001B[0;31mAssertionError\u001B[0m                            Traceback (most recent call last)",
      "Cell \u001B[0;32mIn[332], line 1\u001B[0m\n\u001B[0;32m----> 1\u001B[0m trained_state \u001B[38;5;241m=\u001B[39m train_epoch(model_state, dataset_jax)\n",
      "Cell \u001B[0;32mIn[330], line 4\u001B[0m, in \u001B[0;36mtrain_epoch\u001B[0;34m(state, train_ds)\u001B[0m\n\u001B[1;32m      2\u001B[0m losses \u001B[38;5;241m=\u001B[39m []\n\u001B[1;32m      3\u001B[0m \u001B[38;5;28;01mfor\u001B[39;00m batch \u001B[38;5;129;01min\u001B[39;00m train_ds:\n\u001B[0;32m----> 4\u001B[0m     state, loss \u001B[38;5;241m=\u001B[39m train_step(state, batch)\n\u001B[1;32m      5\u001B[0m     losses\u001B[38;5;241m.\u001B[39mappend(loss)\n\u001B[1;32m      6\u001B[0m \u001B[38;5;28;01mreturn\u001B[39;00m state\n",
      "Cell \u001B[0;32mIn[329], line 2\u001B[0m, in \u001B[0;36mtrain_step\u001B[0;34m(state, batch)\u001B[0m\n\u001B[1;32m      1\u001B[0m \u001B[38;5;28;01mdef\u001B[39;00m\u001B[38;5;250m \u001B[39m\u001B[38;5;21mtrain_step\u001B[39m(state, batch):\n\u001B[0;32m----> 2\u001B[0m     loss, grads \u001B[38;5;241m=\u001B[39m grad_fn(state, state\u001B[38;5;241m.\u001B[39mparams, batch)\n\u001B[1;32m      3\u001B[0m     new_state \u001B[38;5;241m=\u001B[39m state\u001B[38;5;241m.\u001B[39mapply_gradients(grads\u001B[38;5;241m=\u001B[39mgrads)\n\u001B[1;32m      4\u001B[0m     \u001B[38;5;28;01mreturn\u001B[39;00m new_state, loss\n",
      "    \u001B[0;31m[... skipping hidden 15 frame]\u001B[0m\n",
      "Cell \u001B[0;32mIn[327], line 10\u001B[0m, in \u001B[0;36mcalculate_loss\u001B[0;34m(state, params, batch)\u001B[0m\n\u001B[1;32m      8\u001B[0m \u001B[38;5;28;01mfor\u001B[39;00m i \u001B[38;5;129;01min\u001B[39;00m \u001B[38;5;28mrange\u001B[39m(max_target_length\u001B[38;5;241m-\u001B[39m\u001B[38;5;241m1\u001B[39m):\n\u001B[1;32m      9\u001B[0m     new_labels \u001B[38;5;241m=\u001B[39m labels[:, i:i\u001B[38;5;241m+\u001B[39m\u001B[38;5;241m2\u001B[39m]\n\u001B[0;32m---> 10\u001B[0m     logits \u001B[38;5;241m=\u001B[39m seq2seq\u001B[38;5;241m.\u001B[39mapply(params, data_inputs, new_labels)\n\u001B[1;32m     11\u001B[0m     logits \u001B[38;5;241m=\u001B[39m logits\u001B[38;5;241m.\u001B[39msqueeze(axis\u001B[38;5;241m=\u001B[39m\u001B[38;5;241m-\u001B[39m\u001B[38;5;241m1\u001B[39m)\n\u001B[1;32m     13\u001B[0m     step_loss \u001B[38;5;241m=\u001B[39m optax\u001B[38;5;241m.\u001B[39msigmoid_binary_cross_entropy(logits, new_labels)\n",
      "    \u001B[0;31m[... skipping hidden 6 frame]\u001B[0m\n",
      "Cell \u001B[0;32mIn[322], line 9\u001B[0m, in \u001B[0;36mSeq2Seq.__call__\u001B[0;34m(self, encoder_input_tokens, decoder_input_tokens)\u001B[0m\n\u001B[1;32m      7\u001B[0m enc_output \u001B[38;5;241m=\u001B[39m \u001B[38;5;28mself\u001B[39m\u001B[38;5;241m.\u001B[39mencoder(encoder_input_tokens)\n\u001B[1;32m      8\u001B[0m decoder_input \u001B[38;5;241m=\u001B[39m DecoderInput(new_tokens\u001B[38;5;241m=\u001B[39mdecoder_input_tokens, enc_output\u001B[38;5;241m=\u001B[39menc_output)\n\u001B[0;32m----> 9\u001B[0m decoder_output \u001B[38;5;241m=\u001B[39m \u001B[38;5;28mself\u001B[39m\u001B[38;5;241m.\u001B[39mdecoder(decoder_input)\n\u001B[1;32m     10\u001B[0m \u001B[38;5;28;01mreturn\u001B[39;00m decoder_output\n",
      "    \u001B[0;31m[... skipping hidden 2 frame]\u001B[0m\n",
      "Cell \u001B[0;32mIn[316], line 18\u001B[0m, in \u001B[0;36mDecoder.__call__\u001B[0;34m(self, inputs, state)\u001B[0m\n\u001B[1;32m     15\u001B[0m     state, rnn_out \u001B[38;5;241m=\u001B[39m gru(vectors)\n\u001B[1;32m     16\u001B[0m \u001B[38;5;66;03m#shape_checker(rnn_out, (inputs.new_tokens.shape[0], 1, self.dec_units))\u001B[39;00m\n\u001B[0;32m---> 18\u001B[0m     context, alignment \u001B[38;5;241m=\u001B[39m LuongAttention(\u001B[38;5;28mself\u001B[39m\u001B[38;5;241m.\u001B[39mdec_units)(rnn_out, inputs\u001B[38;5;241m.\u001B[39menc_output)\n\u001B[1;32m     19\u001B[0m     \u001B[38;5;66;03m#shape_checker(context, (inputs.new_tokens.shape[0], 1, self.dec_units))\u001B[39;00m\n\u001B[1;32m     20\u001B[0m     \u001B[38;5;66;03m#shape_checker(alignment, (inputs.new_tokens.shape[0], 1, inputs.enc_output.shape[1]))\u001B[39;00m\n\u001B[1;32m     22\u001B[0m     context_and_rnn_output \u001B[38;5;241m=\u001B[39m jnp\u001B[38;5;241m.\u001B[39mconcatenate([context, rnn_out], axis\u001B[38;5;241m=\u001B[39m\u001B[38;5;241m-\u001B[39m\u001B[38;5;241m1\u001B[39m)\n",
      "    \u001B[0;31m[... skipping hidden 2 frame]\u001B[0m\n",
      "Cell \u001B[0;32mIn[204], line 15\u001B[0m, in \u001B[0;36mLuongAttention.__call__\u001B[0;34m(self, decoder_output, encoder_output)\u001B[0m\n\u001B[1;32m     13\u001B[0m \u001B[38;5;66;03m# Agrandissez decoder_output pour qu'il corresponde au temps séquentiel de l'encodeur\u001B[39;00m\n\u001B[1;32m     14\u001B[0m decoder_output \u001B[38;5;241m=\u001B[39m jnp\u001B[38;5;241m.\u001B[39mtile(decoder_output, [\u001B[38;5;241m1\u001B[39m, encoder_output\u001B[38;5;241m.\u001B[39mshape[\u001B[38;5;241m1\u001B[39m], \u001B[38;5;241m1\u001B[39m])  \u001B[38;5;66;03m# (batch_size, seq_len, units)\u001B[39;00m\n\u001B[0;32m---> 15\u001B[0m shape_checker(decoder_output, (encoder_output\u001B[38;5;241m.\u001B[39mshape[\u001B[38;5;241m0\u001B[39m], encoder_output\u001B[38;5;241m.\u001B[39mshape[\u001B[38;5;241m1\u001B[39m], decoder_output\u001B[38;5;241m.\u001B[39mshape[\u001B[38;5;241m-\u001B[39m\u001B[38;5;241m1\u001B[39m]))\n\u001B[1;32m     17\u001B[0m \u001B[38;5;66;03m# Calcul du score (produit scalaire + activation tanh)\u001B[39;00m\n\u001B[1;32m     18\u001B[0m score \u001B[38;5;241m=\u001B[39m va(nn\u001B[38;5;241m.\u001B[39mtanh(wa_enc(encoder_output) \u001B[38;5;241m+\u001B[39m wa_dec(decoder_output)))  \u001B[38;5;66;03m# (batch_size, seq_len, 1)\u001B[39;00m\n",
      "Cell \u001B[0;32mIn[19], line 3\u001B[0m, in \u001B[0;36mShapeChecker.__call__\u001B[0;34m(self, tensor, expected_shape)\u001B[0m\n\u001B[1;32m      2\u001B[0m \u001B[38;5;28;01mdef\u001B[39;00m\u001B[38;5;250m \u001B[39m\u001B[38;5;21m__call__\u001B[39m(\u001B[38;5;28mself\u001B[39m, tensor, expected_shape):\n\u001B[0;32m----> 3\u001B[0m     \u001B[38;5;28;01massert\u001B[39;00m tensor\u001B[38;5;241m.\u001B[39mshape \u001B[38;5;241m==\u001B[39m expected_shape, \u001B[38;5;124mf\u001B[39m\u001B[38;5;124m\"\u001B[39m\u001B[38;5;124mExpected \u001B[39m\u001B[38;5;132;01m{\u001B[39;00mexpected_shape\u001B[38;5;132;01m}\u001B[39;00m\u001B[38;5;124m, got \u001B[39m\u001B[38;5;132;01m{\u001B[39;00mtensor\u001B[38;5;241m.\u001B[39mshape\u001B[38;5;132;01m}\u001B[39;00m\u001B[38;5;124m\"\u001B[39m\n",
      "\u001B[0;31mAssertionError\u001B[0m: Expected (64, 27, 1024), got (64, 54, 1024)"
     ]
    }
   ],
   "execution_count": 332
  },
  {
   "metadata": {
    "ExecuteTime": {
     "end_time": "2025-01-14T19:08:43.237312Z",
     "start_time": "2025-01-14T19:08:43.231159Z"
    }
   },
   "cell_type": "code",
   "source": "type(dataset)",
   "id": "f4ae2c4ac2a21203",
   "outputs": [
    {
     "data": {
      "text/plain": [
       "tensorflow.python.data.ops.batch_op._BatchDataset"
      ]
     },
     "execution_count": 281,
     "metadata": {},
     "output_type": "execute_result"
    }
   ],
   "execution_count": 281
  },
  {
   "metadata": {
    "ExecuteTime": {
     "end_time": "2025-01-14T19:08:45.521301Z",
     "start_time": "2025-01-14T19:08:45.518039Z"
    }
   },
   "cell_type": "code",
   "source": "dataset",
   "id": "2fd0bc1a1a88b9b2",
   "outputs": [
    {
     "data": {
      "text/plain": [
       "<_BatchDataset element_spec=(TensorSpec(shape=(None,), dtype=tf.string, name=None), TensorSpec(shape=(None,), dtype=tf.string, name=None))>"
      ]
     },
     "execution_count": 282,
     "metadata": {},
     "output_type": "execute_result"
    }
   ],
   "execution_count": 282
  },
  {
   "metadata": {
    "ExecuteTime": {
     "end_time": "2025-01-14T19:17:44.083180Z",
     "start_time": "2025-01-14T19:17:43.964365Z"
    }
   },
   "cell_type": "code",
   "source": [
    "\n",
    "dataset_jax = []\n",
    "for a, b in dataset:\n",
    "    dataset_jax.append((jnp.array(input_text_processor(a)), jnp.array(output_text_processor(b))))\n",
    "    break"
   ],
   "id": "703b0a7bb929314e",
   "outputs": [],
   "execution_count": 293
  },
  {
   "metadata": {
    "ExecuteTime": {
     "end_time": "2025-01-14T19:17:46.375822Z",
     "start_time": "2025-01-14T19:17:46.373021Z"
    }
   },
   "cell_type": "code",
   "source": "len(dataset)",
   "id": "5dca146187e8507d",
   "outputs": [
    {
     "data": {
      "text/plain": [
       "842"
      ]
     },
     "execution_count": 294,
     "metadata": {},
     "output_type": "execute_result"
    }
   ],
   "execution_count": 294
  },
  {
   "metadata": {
    "ExecuteTime": {
     "end_time": "2025-01-14T19:17:53.327557Z",
     "start_time": "2025-01-14T19:17:53.324099Z"
    }
   },
   "cell_type": "code",
   "source": "dataset_jax",
   "id": "2d48c4f77b23a16b",
   "outputs": [
    {
     "data": {
      "text/plain": [
       "[(Array([[   2,  197,   25, ...,    0,    0,    0],\n",
       "         [   2,  190,  123, ...,    0,    0,    0],\n",
       "         [   2,   58,  303, ...,    0,    0,    0],\n",
       "         ...,\n",
       "         [   2,  185,  113, ...,    0,    0,    0],\n",
       "         [   2, 7575,    3, ...,    0,    0,    0],\n",
       "         [   2,  735,  329, ...,    0,    0,    0]], dtype=int32),\n",
       "  Array([[    2,    13,   460, ...,     0,     0,     0],\n",
       "         [    2,    83,    75, ...,     0,     0,     0],\n",
       "         [    2,   326,     3, ...,     0,     0,     0],\n",
       "         ...,\n",
       "         [    2,    70,   128, ...,     0,     0,     0],\n",
       "         [    2,    28,   893, ...,     0,     0,     0],\n",
       "         [    2, 13551,     8, ...,     0,     0,     0]], dtype=int32))]"
      ]
     },
     "execution_count": 296,
     "metadata": {},
     "output_type": "execute_result"
    }
   ],
   "execution_count": 296
  },
  {
   "metadata": {},
   "cell_type": "code",
   "outputs": [],
   "execution_count": null,
   "source": "",
   "id": "5a7ef8d8fabf7859"
  }
 ],
 "metadata": {
  "kernelspec": {
   "display_name": "Python 3",
   "language": "python",
   "name": "python3"
  },
  "language_info": {
   "codemirror_mode": {
    "name": "ipython",
    "version": 2
   },
   "file_extension": ".py",
   "mimetype": "text/x-python",
   "name": "python",
   "nbconvert_exporter": "python",
   "pygments_lexer": "ipython2",
   "version": "2.7.6"
  }
 },
 "nbformat": 4,
 "nbformat_minor": 5
}
