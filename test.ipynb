{
 "cells": [
  {
   "metadata": {
    "ExecuteTime": {
     "end_time": "2025-01-14T15:01:18.560819Z",
     "start_time": "2025-01-14T15:01:18.443972Z"
    }
   },
   "cell_type": "code",
   "source": [
    "import jax\n",
    "import jax.numpy as jnp\n",
    "import flax.linen as nn\n",
    "from flax.linen.recurrent import GRUCell\n",
    "\n",
    "class Encoder(nn.Module):\n",
    "    input_vocab_size: int\n",
    "    embedding_dim: int\n",
    "    enc_units: int\n",
    "\n",
    "    def setup(self):\n",
    "        # The embedding layer converts tokens to vectors\n",
    "        self.embedding = nn.Embed(num_embeddings=self.input_vocab_size, features=self.embedding_dim)\n",
    "\n",
    "        # The GRU RNN layer processes those vectors sequentially.\n",
    "        self.gru = nn.scan(GRUCell,\n",
    "                           variable_broadcast=\"params\",\n",
    "                           in_axes=0,\n",
    "                           out_axes=0,\n",
    "                           split_rngs={'params': False})(features=self.embedding_dim)\n",
    "\n",
    "    def __call__(self, tokens, initial_state=None):\n",
    "        # 2. The embedding layer looks up the embedding for each token.\n",
    "        vectors = self.embedding(tokens)\n",
    "\n",
    "        # 3. The GRU processes the embedding sequence.\n",
    "        if initial_state is None:\n",
    "            initial_state = jnp.zeros((tokens.shape[0], self.enc_units))\n",
    "\n",
    "        def scan_fn(carry, x):\n",
    "            state, _ = carry\n",
    "            new_state, y = self.gru(state, x)\n",
    "            return (new_state, y), y\n",
    "\n",
    "        (final_state, output), outputs = jax.lax.scan(scan_fn, (initial_state, None), vectors)\n",
    "\n",
    "        # 4. Returns the new sequence and its state.\n",
    "        return output, final_state\n",
    "\n",
    "# Example usage\n",
    "input_vocab_size = 10000\n",
    "embedding_dim = 256\n",
    "enc_units = 512\n",
    "\n",
    "encoder = Encoder(input_vocab_size=input_vocab_size, embedding_dim=embedding_dim, enc_units=enc_units)\n",
    "\n",
    "# Initialize parameters\n",
    "key1, key2 = jax.random.split(jax.random.PRNGKey(0))\n",
    "tokens = jax.random.randint(key1, (32, 10), 0, input_vocab_size)  # batch_size=32, seq_length=10\n",
    "initial_state = jnp.zeros((32, enc_units))\n",
    "\n",
    "params = encoder.init(key2, tokens, initial_state)['params']\n",
    "output, state = encoder.apply({'params': params}, tokens, initial_state)\n",
    "\n",
    "print(\"Output shape:\", output.shape)\n",
    "print(\"State shape:\", state.shape)\n"
   ],
   "id": "7e40e206438f6f4e",
   "outputs": [
    {
     "ename": "TypeError",
     "evalue": "scan body function carry input and carry output must have the same pytree structure, but they differ:\n\nThe input carry component carry[1] is a <class 'NoneType'> but the corresponding component of the carry output is a <class 'jax._src.core.ShapedArray'>, so their Python types differ.\n\nRevise the function so that the carry output has the same pytree structure as the carry input.",
     "output_type": "error",
     "traceback": [
      "\u001B[0;31m---------------------------------------------------------------------------\u001B[0m",
      "\u001B[0;31mTypeError\u001B[0m                                 Traceback (most recent call last)",
      "Cell \u001B[0;32mIn[27], line 52\u001B[0m\n\u001B[1;32m     49\u001B[0m tokens \u001B[38;5;241m=\u001B[39m jax\u001B[38;5;241m.\u001B[39mrandom\u001B[38;5;241m.\u001B[39mrandint(key1, (\u001B[38;5;241m32\u001B[39m, \u001B[38;5;241m10\u001B[39m), \u001B[38;5;241m0\u001B[39m, input_vocab_size)  \u001B[38;5;66;03m# batch_size=32, seq_length=10\u001B[39;00m\n\u001B[1;32m     50\u001B[0m initial_state \u001B[38;5;241m=\u001B[39m jnp\u001B[38;5;241m.\u001B[39mzeros((\u001B[38;5;241m32\u001B[39m, enc_units))\n\u001B[0;32m---> 52\u001B[0m params \u001B[38;5;241m=\u001B[39m encoder\u001B[38;5;241m.\u001B[39minit(key2, tokens, initial_state)[\u001B[38;5;124m'\u001B[39m\u001B[38;5;124mparams\u001B[39m\u001B[38;5;124m'\u001B[39m]\n\u001B[1;32m     53\u001B[0m output, state \u001B[38;5;241m=\u001B[39m encoder\u001B[38;5;241m.\u001B[39mapply({\u001B[38;5;124m'\u001B[39m\u001B[38;5;124mparams\u001B[39m\u001B[38;5;124m'\u001B[39m: params}, tokens, initial_state)\n\u001B[1;32m     55\u001B[0m \u001B[38;5;28mprint\u001B[39m(\u001B[38;5;124m\"\u001B[39m\u001B[38;5;124mOutput shape:\u001B[39m\u001B[38;5;124m\"\u001B[39m, output\u001B[38;5;241m.\u001B[39mshape)\n",
      "    \u001B[0;31m[... skipping hidden 9 frame]\u001B[0m\n",
      "Cell \u001B[0;32mIn[27], line 35\u001B[0m, in \u001B[0;36mEncoder.__call__\u001B[0;34m(self, tokens, initial_state)\u001B[0m\n\u001B[1;32m     32\u001B[0m     new_state, y \u001B[38;5;241m=\u001B[39m \u001B[38;5;28mself\u001B[39m\u001B[38;5;241m.\u001B[39mgru(state, x)\n\u001B[1;32m     33\u001B[0m     \u001B[38;5;28;01mreturn\u001B[39;00m (new_state, y), y\n\u001B[0;32m---> 35\u001B[0m (final_state, output), outputs \u001B[38;5;241m=\u001B[39m jax\u001B[38;5;241m.\u001B[39mlax\u001B[38;5;241m.\u001B[39mscan(scan_fn, (initial_state, \u001B[38;5;28;01mNone\u001B[39;00m), vectors)\n\u001B[1;32m     37\u001B[0m \u001B[38;5;66;03m# 4. Returns the new sequence and its state.\u001B[39;00m\n\u001B[1;32m     38\u001B[0m \u001B[38;5;28;01mreturn\u001B[39;00m output, final_state\n",
      "    \u001B[0;31m[... skipping hidden 2 frame]\u001B[0m\n",
      "File \u001B[0;32m/opt/miniconda3/envs/JaxFFR/lib/python3.12/site-packages/jax/_src/lax/control_flow/loops.py:391\u001B[0m, in \u001B[0;36m_check_carry_type\u001B[0;34m(name, body_fun, in_carry, out_carry_tree, out_avals)\u001B[0m\n\u001B[1;32m    388\u001B[0m     \u001B[38;5;28;01melse\u001B[39;00m:\n\u001B[1;32m    389\u001B[0m       differences \u001B[38;5;241m=\u001B[39m (\u001B[38;5;124m'\u001B[39m\u001B[38;5;130;01m\\n\u001B[39;00m\u001B[38;5;124m'\u001B[39m\u001B[38;5;241m.\u001B[39mjoin(\u001B[38;5;124mf\u001B[39m\u001B[38;5;124m'\u001B[39m\u001B[38;5;124m  * \u001B[39m\u001B[38;5;132;01m{\u001B[39;00md\u001B[38;5;132;01m}\u001B[39;00m\u001B[38;5;124m;\u001B[39m\u001B[38;5;130;01m\\n\u001B[39;00m\u001B[38;5;124m'\u001B[39m \u001B[38;5;28;01mfor\u001B[39;00m d \u001B[38;5;129;01min\u001B[39;00m diffs[:\u001B[38;5;241m-\u001B[39m\u001B[38;5;241m1\u001B[39m])\n\u001B[1;32m    390\u001B[0m                      \u001B[38;5;241m+\u001B[39m \u001B[38;5;124mf\u001B[39m\u001B[38;5;124m'\u001B[39m\u001B[38;5;124m  * \u001B[39m\u001B[38;5;132;01m{\u001B[39;00mdiffs[\u001B[38;5;241m-\u001B[39m\u001B[38;5;241m1\u001B[39m]\u001B[38;5;132;01m}\u001B[39;00m\u001B[38;5;124m.\u001B[39m\u001B[38;5;130;01m\\n\u001B[39;00m\u001B[38;5;124m'\u001B[39m)\n\u001B[0;32m--> 391\u001B[0m   \u001B[38;5;28;01mraise\u001B[39;00m \u001B[38;5;167;01mTypeError\u001B[39;00m(\n\u001B[1;32m    392\u001B[0m       \u001B[38;5;124mf\u001B[39m\u001B[38;5;124m\"\u001B[39m\u001B[38;5;132;01m{\u001B[39;00mname\u001B[38;5;132;01m}\u001B[39;00m\u001B[38;5;124m function carry input and carry output must have the same \u001B[39m\u001B[38;5;124m\"\u001B[39m\n\u001B[1;32m    393\u001B[0m       \u001B[38;5;124m\"\u001B[39m\u001B[38;5;124mpytree structure, but they differ:\u001B[39m\u001B[38;5;130;01m\\n\u001B[39;00m\u001B[38;5;130;01m\\n\u001B[39;00m\u001B[38;5;124m\"\u001B[39m\n\u001B[1;32m    394\u001B[0m       \u001B[38;5;124mf\u001B[39m\u001B[38;5;124m\"\u001B[39m\u001B[38;5;132;01m{\u001B[39;00mdifferences\u001B[38;5;132;01m}\u001B[39;00m\u001B[38;5;130;01m\\n\u001B[39;00m\u001B[38;5;124m\"\u001B[39m\n\u001B[1;32m    395\u001B[0m       \u001B[38;5;124m\"\u001B[39m\u001B[38;5;124mRevise the function so that the carry output has the same pytree \u001B[39m\u001B[38;5;124m\"\u001B[39m\n\u001B[1;32m    396\u001B[0m       \u001B[38;5;124m\"\u001B[39m\u001B[38;5;124mstructure as the carry input.\u001B[39m\u001B[38;5;124m\"\u001B[39m)\n\u001B[1;32m    397\u001B[0m \u001B[38;5;28;01mif\u001B[39;00m \u001B[38;5;129;01mnot\u001B[39;00m \u001B[38;5;28mall\u001B[39m(_map(core\u001B[38;5;241m.\u001B[39mtypematch, in_avals, out_avals)):\n\u001B[1;32m    398\u001B[0m   diffs \u001B[38;5;241m=\u001B[39m [\u001B[38;5;124mf\u001B[39m\u001B[38;5;124m'\u001B[39m\u001B[38;5;132;01m{\u001B[39;00mcomponent(path)\u001B[38;5;132;01m}\u001B[39;00m\u001B[38;5;124m has type \u001B[39m\u001B[38;5;132;01m{\u001B[39;00min_aval\u001B[38;5;241m.\u001B[39mstr_short()\u001B[38;5;132;01m}\u001B[39;00m\u001B[38;5;124m'\u001B[39m\n\u001B[1;32m    399\u001B[0m            \u001B[38;5;124m'\u001B[39m\u001B[38;5;124m but the corresponding output carry component has type \u001B[39m\u001B[38;5;124m'\u001B[39m\n\u001B[1;32m    400\u001B[0m            \u001B[38;5;124mf\u001B[39m\u001B[38;5;124m'\u001B[39m\u001B[38;5;132;01m{\u001B[39;00mout_aval\u001B[38;5;241m.\u001B[39mstr_short()\u001B[38;5;132;01m}\u001B[39;00m\u001B[38;5;132;01m{\u001B[39;00m_aval_mismatch_extra(in_aval,\u001B[38;5;250m \u001B[39mout_aval)\u001B[38;5;132;01m}\u001B[39;00m\u001B[38;5;124m'\u001B[39m\n\u001B[1;32m    401\u001B[0m            \u001B[38;5;28;01mfor\u001B[39;00m path, in_aval, out_aval \u001B[38;5;129;01min\u001B[39;00m \u001B[38;5;28mzip\u001B[39m(paths, in_avals, out_avals)\n\u001B[1;32m    402\u001B[0m            \u001B[38;5;28;01mif\u001B[39;00m \u001B[38;5;129;01mnot\u001B[39;00m core\u001B[38;5;241m.\u001B[39mtypematch(in_aval, out_aval)]\n",
      "\u001B[0;31mTypeError\u001B[0m: scan body function carry input and carry output must have the same pytree structure, but they differ:\n\nThe input carry component carry[1] is a <class 'NoneType'> but the corresponding component of the carry output is a <class 'jax._src.core.ShapedArray'>, so their Python types differ.\n\nRevise the function so that the carry output has the same pytree structure as the carry input."
     ]
    }
   ],
   "execution_count": 27
  },
  {
   "metadata": {},
   "cell_type": "code",
   "outputs": [],
   "execution_count": null,
   "source": "",
   "id": "f3e4bd21de46d52e"
  }
 ],
 "metadata": {
  "kernelspec": {
   "display_name": "Python 3",
   "language": "python",
   "name": "python3"
  },
  "language_info": {
   "codemirror_mode": {
    "name": "ipython",
    "version": 2
   },
   "file_extension": ".py",
   "mimetype": "text/x-python",
   "name": "python",
   "nbconvert_exporter": "python",
   "pygments_lexer": "ipython2",
   "version": "2.7.6"
  }
 },
 "nbformat": 4,
 "nbformat_minor": 5
}
